{
 "cells": [
  {
   "cell_type": "code",
   "execution_count": 94,
   "metadata": {},
   "outputs": [
    {
     "name": "stdout",
     "output_type": "stream",
     "text": [
      "[['A', 'B', 'C'], ['D', 'E']]\n"
     ]
    }
   ],
   "source": [
    "#разбиение на подграфы\n",
    "\n",
    "from collections import defaultdict\n",
    "\n",
    "\n",
    "def create_adjacency_matrix(connections):\n",
    "    matrix = defaultdict(dict)\n",
    "    for a, b in connections:\n",
    "        matrix[a][b] = 1\n",
    "        matrix[b][a] = 1\n",
    "    return matrix\n",
    "\n",
    "\n",
    "def is_connected_to_all(vertex, group, matrix):\n",
    "    for v in group:\n",
    "        if vertex != v and vertex not in matrix[v]:\n",
    "            return False\n",
    "    return True\n",
    "\n",
    "\n",
    "def group_vertexes(input, k):\n",
    "    matrix = create_adjacency_matrix(input)\n",
    "    groups = []\n",
    "    current_group = []\n",
    "    for vertex in matrix.keys():\n",
    "        if is_connected_to_all(vertex, current_group, matrix):\n",
    "            current_group.append(vertex)\n",
    "        else:\n",
    "            groups.append(current_group)\n",
    "            current_group = [vertex]\n",
    "    groups.append(current_group)\n",
    "    p = groups\n",
    "    while len(p) > k:\n",
    "        min_length = len(p[0])\n",
    "        min_mem = p[0]\n",
    "        for i in p:\n",
    "            if len(i) < min_length:\n",
    "                min_length = len(i)\n",
    "                min_mem = i\n",
    "        if (p.index(min_mem) != 0):\n",
    "            p[p.index(min_mem) - 1] += p[p.index(min_mem)]\n",
    "            p.pop(p.index(min_mem))\n",
    "        else :\n",
    "            p[p.index(min_mem) + 1] += p[p.index(min_mem)]\n",
    "            p.pop(p.index(min_mem))\n",
    "    \n",
    "    return p\n",
    "\n",
    "input = [(\"A\", \"B\"), (\"B\", \"C\"), (\"A\", \"C\"), (\"B\", \"D\"), (\"D\", \"E\")]\n",
    "print(group_vertexes(input, 2))"
   ]
  },
  {
   "cell_type": "code",
   "execution_count": 142,
   "metadata": {},
   "outputs": [],
   "source": [
    "class Node:\n",
    "    def __init__(self, id_, percent, enter, all_n, all_e, subgr_count):\n",
    "        self.id = id_\n",
    "        self.subgraphs = []\n",
    "        self.priority_percent = percent\n",
    "        self.enter_nodes = enter\n",
    "        self.all_nodes = all_n\n",
    "        self.all_edges = all_e\n",
    "        self.all_connections = []\n",
    "        self.subgraphs_count = subgr_count\n",
    "    def add_node(self, node):\n",
    "        self.all_nodes.append(node);\n",
    "    def add_edge(self, edge):\n",
    "        self.all_edges.append(edge);\n",
    "    def add_enter(self, node):\n",
    "        self.enter_nodes.append(node)\n",
    "        self.all_nodes.append(node)\n",
    "    def make_subgraphs(self):\n",
    "        self.subgraphs = []\n",
    "        z = group_vertexes(self.all_connections, self.subgraphs_count)\n",
    "        for i in z:\n",
    "            edgs = []\n",
    "            for j in i:\n",
    "                for edg in j.edges:\n",
    "                    if ((edg not in edgs) and (edg.node_to in i)):\n",
    "                        edgs.append(edg)\n",
    "            sbgr = Subgraph(i, edgs)\n",
    "            self.subgraphs.append(sbgr)\n",
    "    def make_connections(self):\n",
    "        for i in self.all_edges:\n",
    "            self.all_connections.append((i.node_from, i.node_to))"
   ]
  },
  {
   "cell_type": "code",
   "execution_count": 3,
   "metadata": {},
   "outputs": [],
   "source": [
    "class Edge:\n",
    "    def __init__(self, from_, to_, value):\n",
    "        self.Node_from = from_\n",
    "        self.Node_to = to_\n",
    "        self.weight = value\n",
    "    def update_weight(self, value):\n",
    "        self.weight = value"
   ]
  },
  {
   "cell_type": "code",
   "execution_count": 65,
   "metadata": {},
   "outputs": [],
   "source": [
    "class node:\n",
    "    def __init__(self, id_, priority_, edges_):\n",
    "        self.id = id_\n",
    "        #self.x = x\n",
    "        #self.y = y\n",
    "        self.priority = priority_\n",
    "        self.edges = edges_\n",
    "    def update_priority(self, new_priority):\n",
    "        self.priority = new_priority\n",
    "    def add_edge(self, edge):\n",
    "        self.edges.append(edge)"
   ]
  },
  {
   "cell_type": "code",
   "execution_count": 5,
   "metadata": {},
   "outputs": [],
   "source": [
    "class edge:\n",
    "    def __init__(self, from_, to_, value):\n",
    "        self.node_from = from_\n",
    "        self.node_to = to_\n",
    "        self.weight = value\n",
    "    def update_weight(self, value):\n",
    "        self.weight = value"
   ]
  },
  {
   "cell_type": "code",
   "execution_count": 6,
   "metadata": {},
   "outputs": [],
   "source": [
    "class Subgraph:\n",
    "    def __init__(self, nodes, edges):\n",
    "        self.nodes = nodes\n",
    "        self.edges = edges\n",
    "        self.route = []\n",
    "        self.percent_snow = 100\n",
    "        self.car = False\n",
    "    def car_in(self):\n",
    "        self.car = True\n",
    "    def car_out(self):\n",
    "        self.car = False\n",
    "    def update_percent_snow(self, value):\n",
    "        self.percent_snow = value\n",
    "    def set_route(self):\n",
    "        self.route = []"
   ]
  },
  {
   "cell_type": "code",
   "execution_count": 9,
   "metadata": {},
   "outputs": [
    {
     "name": "stdout",
     "output_type": "stream",
     "text": [
      "road.json  Untitled.ipynb\r\n"
     ]
    }
   ],
   "source": [
    "!ls"
   ]
  },
  {
   "cell_type": "code",
   "execution_count": 47,
   "metadata": {},
   "outputs": [],
   "source": [
    "import json\n",
    "import numpy as np\n",
    "import pandas as pd\n",
    "import matplotlib.pyplot as plt"
   ]
  },
  {
   "cell_type": "code",
   "execution_count": 48,
   "metadata": {},
   "outputs": [],
   "source": [
    "f = open('road.json',)"
   ]
  },
  {
   "cell_type": "code",
   "execution_count": 49,
   "metadata": {},
   "outputs": [],
   "source": [
    "data = json.load(f)"
   ]
  },
  {
   "cell_type": "code",
   "execution_count": 137,
   "metadata": {},
   "outputs": [
    {
     "data": {
      "text/plain": [
       "100"
      ]
     },
     "execution_count": 137,
     "metadata": {},
     "output_type": "execute_result"
    }
   ],
   "source": [
    "t1 = 0\n",
    "t2 = 100\n",
    "data = data[t1:t2]\n",
    "len(data)"
   ]
  },
  {
   "cell_type": "code",
   "execution_count": 53,
   "metadata": {},
   "outputs": [
    {
     "data": {
      "text/plain": [
       "'617382efacd9177a56bf14e8'"
      ]
     },
     "execution_count": 53,
     "metadata": {},
     "output_type": "execute_result"
    }
   ],
   "source": [
    "data[0]['in_vertics']['vertics_id']"
   ]
  },
  {
   "cell_type": "code",
   "execution_count": 155,
   "metadata": {},
   "outputs": [],
   "source": [
    "Nods = []\n",
    "t1 = t2 = 0;\n",
    "for i in range(5):\n",
    "    t1 = t2\n",
    "    t2 = (i+1)*100\n",
    "    data = data[t1:t2]\n",
    "    nodes = []\n",
    "    edges = []\n",
    "    for i in data:\n",
    "        id_in = i['in_vertics']['vertics_id']\n",
    "        id_out = i['out_vertics']['vertics_id']\n",
    "        nd_in = 0\n",
    "        nd_out = 0\n",
    "        index_in = 0\n",
    "        index_out = 0\n",
    "        find_in = False\n",
    "        find_out = False\n",
    "        for i in nodes:\n",
    "            if i.id == id_in:\n",
    "                find_in = True\n",
    "                nd_in = i\n",
    "                break;\n",
    "        for i in nodes:\n",
    "            if i.id == id_out:\n",
    "                find_out = True\n",
    "                nd_out = i\n",
    "                break;\n",
    "        if (not find_in):\n",
    "            nd_in = node(id_in, 1, [])\n",
    "            nodes.append(nd_in)\n",
    "        if (not find_out):\n",
    "            nd_out = node(id_out, 1, [])\n",
    "            nodes.append(nd_out)\n",
    "        edg = edge(nd_in, nd_out, 1)\n",
    "        edges.append(edg)\n",
    "        nd_in.add_edge(edg)\n",
    "    new_nd = Node(i, 1, [], nodes, edges, 5)\n",
    "    Nods.append(new_nd)"
   ]
  },
  {
   "cell_type": "code",
   "execution_count": 143,
   "metadata": {},
   "outputs": [
    {
     "name": "stdout",
     "output_type": "stream",
     "text": [
      "617382f0acd9177a56bf14e9 617382f0acd9177a56bf14fc\n"
     ]
    }
   ],
   "source": [
    "print(edges[0].node_to.id,\n",
    "edges[10].node_from.id)\n",
    "\n",
    "new_nd = Node(1, 1, [], nodes, edges, 5)"
   ]
  },
  {
   "cell_type": "code",
   "execution_count": 144,
   "metadata": {},
   "outputs": [],
   "source": [
    "new_nd.make_connections()"
   ]
  },
  {
   "cell_type": "code",
   "execution_count": 157,
   "metadata": {
    "scrolled": true
   },
   "outputs": [],
   "source": [
    "for i in Nods:\n",
    "    i.make_connections()\n",
    "    i.make_subgraphs()"
   ]
  },
  {
   "cell_type": "code",
   "execution_count": 167,
   "metadata": {
    "scrolled": true
   },
   "outputs": [
    {
     "data": {
      "text/plain": [
       "[<__main__.node at 0x7fd79cbf9460>,\n",
       " <__main__.node at 0x7fd79cbf94c0>,\n",
       " <__main__.node at 0x7fd79cbf9580>,\n",
       " <__main__.node at 0x7fd79cbf9640>,\n",
       " <__main__.node at 0x7fd79cbf96a0>,\n",
       " <__main__.node at 0x7fd79cbf9760>,\n",
       " <__main__.node at 0x7fd79cbf97f0>,\n",
       " <__main__.node at 0x7fd79cbf98e0>,\n",
       " <__main__.node at 0x7fd79cbf9970>,\n",
       " <__main__.node at 0x7fd79cbf9a00>,\n",
       " <__main__.node at 0x7fd79cbf99d0>,\n",
       " <__main__.node at 0x7fd79cbf9ac0>,\n",
       " <__main__.node at 0x7fd79cbf9b20>,\n",
       " <__main__.node at 0x7fd79cbf9c40>,\n",
       " <__main__.node at 0x7fd79cbf9d00>]"
      ]
     },
     "execution_count": 167,
     "metadata": {},
     "output_type": "execute_result"
    }
   ],
   "source": [
    "Nods[0].subgraphs[4].nodes"
   ]
  },
  {
   "cell_type": "code",
   "execution_count": 146,
   "metadata": {},
   "outputs": [],
   "source": [
    "new_nd.make_subgraphs()"
   ]
  },
  {
   "cell_type": "code",
   "execution_count": 153,
   "metadata": {},
   "outputs": [
    {
     "data": {
      "text/plain": [
       "[<__main__.edge at 0x7fd79ddcecd0>,\n",
       " <__main__.edge at 0x7fd79ddced90>,\n",
       " <__main__.edge at 0x7fd79ddceeb0>,\n",
       " <__main__.edge at 0x7fd79ddcefd0>,\n",
       " <__main__.edge at 0x7fd79d59d130>,\n",
       " <__main__.edge at 0x7fd79d59d250>,\n",
       " <__main__.edge at 0x7fd79d59d370>,\n",
       " <__main__.edge at 0x7fd79d59d490>]"
      ]
     },
     "execution_count": 153,
     "metadata": {},
     "output_type": "execute_result"
    }
   ],
   "source": [
    "new_nd.subgraphs[4].edges"
   ]
  },
  {
   "cell_type": "code",
   "execution_count": 171,
   "metadata": {},
   "outputs": [],
   "source": [
    "nodes = [Nods[0], Nods[1], Nods[2], Nods[3], Nods[4]]\n",
    "distances = {\n",
    "    Nods[0]: {Nods[1]: 5, Nods[2]: 1, Nods[2]: 3},\n",
    "    Nods[1]: {Nods[1]: 5, Nods[3]: 3, Nods[4]: 12},\n",
    "    Nods[2]: {Nods[1]: 1, Nods[4]: 1, Nods[4]: 1},\n",
    "    Nods[3]: {Nods[1]: 2, Nods[4]: 1, Nods[2]: 2},\n",
    "    Nods[4]: {Nods[3]: 2}}"
   ]
  },
  {
   "cell_type": "code",
   "execution_count": 172,
   "metadata": {},
   "outputs": [
    {
     "name": "stdout",
     "output_type": "stream",
     "text": [
      "{<__main__.Node object at 0x7fd79d29dc70>: 0, <__main__.Node object at 0x7fd79cbf9dc0>: 3, <__main__.Node object at 0x7fd79d2a1d60>: 4, <__main__.Node object at 0x7fd79cbf9e20>: 4, <__main__.Node object at 0x7fd79cbf9df0>: 6}\n"
     ]
    }
   ],
   "source": [
    "unvisited = {node: None for node in nodes}\n",
    "visited = {}\n",
    "current = Nods[0]\n",
    "currentDistance = 0\n",
    "unvisited[current] = currentDistance\n",
    "\n",
    "while True:\n",
    "    for neighbour, distance in distances[current].items():\n",
    "        if neighbour not in unvisited: continue\n",
    "        newDistance = currentDistance + distance\n",
    "        if unvisited[neighbour] is None or unvisited[neighbour] > newDistance:\n",
    "            unvisited[neighbour] = newDistance\n",
    "    visited[current] = currentDistance\n",
    "    del unvisited[current]\n",
    "    if not unvisited: break\n",
    "    candidates = [node for node in unvisited.items() if node[1]]\n",
    "    current, currentDistance = sorted(candidates, key = lambda x: x[1])[0]\n",
    "\n",
    "print(visited)"
   ]
  },
  {
   "cell_type": "code",
   "execution_count": null,
   "metadata": {},
   "outputs": [],
   "source": [
    "class Djkstra:\n",
    "    def __init__():\n",
    "        "
   ]
  },
  {
   "cell_type": "code",
   "execution_count": null,
   "metadata": {},
   "outputs": [],
   "source": []
  },
  {
   "cell_type": "code",
   "execution_count": null,
   "metadata": {},
   "outputs": [],
   "source": []
  }
 ],
 "metadata": {
  "kernelspec": {
   "display_name": "Python 3 (ipykernel)",
   "language": "python",
   "name": "python3"
  },
  "language_info": {
   "codemirror_mode": {
    "name": "ipython",
    "version": 3
   },
   "file_extension": ".py",
   "mimetype": "text/x-python",
   "name": "python",
   "nbconvert_exporter": "python",
   "pygments_lexer": "ipython3",
   "version": "3.8.10"
  }
 },
 "nbformat": 4,
 "nbformat_minor": 2
}
